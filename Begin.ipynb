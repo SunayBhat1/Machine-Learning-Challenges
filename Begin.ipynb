{
 "cells": [
  {
   "cell_type": "code",
   "execution_count": 128,
   "metadata": {},
   "outputs": [],
   "source": [
    "# Library Imports\n",
    "import pandas as pd\n",
    "from datetime import datetime, timedelta\n",
    "import numpy as np\n",
    "from tqdm import tqdm\n",
    "from sklearn import linear_model\n",
    "import pgeocode     # Postal Code GeoDistance"
   ]
  },
  {
   "cell_type": "code",
   "execution_count": 129,
   "metadata": {},
   "outputs": [],
   "source": [
    "df = pd.read_csv('Data/eBay_ML_Challenge_Dataset_2021_train.tsv', sep='\\t', header=0)"
   ]
  },
  {
   "cell_type": "code",
   "execution_count": 127,
   "metadata": {},
   "outputs": [],
   "source": [
    "# print(df.columns)\n",
    "# df.nunique(axis=0)"
   ]
  },
  {
   "cell_type": "code",
   "execution_count": 130,
   "metadata": {},
   "outputs": [],
   "source": [
    "##### Data Formatting #######\n",
    "def feature_extraction(df):\n",
    "    # Create Feature Dataframe\n",
    "    df_Feat =  pd.DataFrame(np.nan, index=range(df.shape[0]), columns=['Type','Handle','Ship_Method','Min','Max','Dist','Delivery_Days'])\n",
    "\n",
    "    # Transaction Type (Bussiness to Consumer = 1.5, C2C = .5)\n",
    "    df_Feat['Type'] = (df['b2c_c2c'] == 'B2C').astype(float) + 0.5\n",
    "\n",
    "    # Handling Days\n",
    "    df_Feat['Handle'] = df['declared_handling_days']\n",
    "\n",
    "    # SHipment Method (1:15)\n",
    "    df_Feat['Ship_Method'] = df['shipment_method_id'] + 1\n",
    "\n",
    "    # Min/Max Estimates\n",
    "    df_Feat['Min'] = abs(df['carrier_min_estimate'])\n",
    "    df_Feat['Max'] = abs(df['carrier_max_estimate'])\n",
    "\n",
    "    # Get Postal Code Distance\n",
    "    df_Feat['Dist'] = pd.Series(postal_dist.query_postal_code(df['item_zip'].values, df['buyer_zip'].values))\n",
    "\n",
    "    # Get Delivery Days to train on\n",
    "\n",
    "    # payment to delivery days\n",
    "    for iRow in tqdm(range(df.shape[0])):\n",
    "        payment = datetime.strptime(df.iloc[iRow]['payment_datetime'][:16], '%Y-%m-%d %H:%M') + timedelta(hours = -int(df.iloc[iRow]['payment_datetime'][-6:-3]))\n",
    "        delivery = datetime.strptime(df.iloc[iRow]['delivery_date'],'%Y-%m-%d')\n",
    "        difference = delivery - payment\n",
    "        df_Feat.at[iRow,'Delivery_Days'] = difference.days\n",
    "\n",
    "    return df_Feat\n",
    "\n"
   ]
  },
  {
   "cell_type": "code",
   "execution_count": 93,
   "metadata": {},
   "outputs": [
    {
     "data": {
      "text/plain": [
       "<bound method NDFrame.head of        Type  Handle  Ship_Method  Min  Max         Dist  Delivery_Days\n",
       "0       1.5     3.0            1    3    5  3001.984391            4.0\n",
       "1       0.5     2.0            1    3    5     0.000000            3.0\n",
       "2       1.5     1.0            1    3    5  1102.546134            3.0\n",
       "3       1.5     1.0            1    3    5  1343.238967            4.0\n",
       "4       1.5     1.0            1    3    5  2458.659875            2.0\n",
       "...     ...     ...          ...  ...  ...          ...            ...\n",
       "19995   1.5     1.0            1    3    5  3902.976963            2.0\n",
       "19996   1.5     1.0            3    2    9  1061.234143            1.0\n",
       "19997   0.5     3.0            1    3    5  1975.525755            3.0\n",
       "19998   0.5     0.0            3    2    9   425.756636            1.0\n",
       "19999   1.5     1.0            2    2    5  1265.956773            4.0\n",
       "\n",
       "[20000 rows x 7 columns]>"
      ]
     },
     "execution_count": 93,
     "metadata": {},
     "output_type": "execute_result"
    }
   ],
   "source": []
  },
  {
   "cell_type": "code",
   "execution_count": 131,
   "metadata": {},
   "outputs": [],
   "source": [
    "df_Feat = feature_extraction(df)\n",
    "df_Feat = df_Feat.fillna(0)\n",
    "X = df_Feat.values[:,0:6]\n",
    "y = df_Feat.values[:,6]\n",
    "m = len(y) # Number of training examples\n",
    "print('Total no of training examples (m) = %s \\n' %(m))\n",
    "\n",
    "model_ols =  linear_model.LinearRegression(normalize=True)\n",
    "model_ols.fit(X,y) "
   ]
  },
  {
   "cell_type": "code",
   "execution_count": 116,
   "metadata": {},
   "outputs": [
    {
     "name": "stderr",
     "output_type": "stream",
     "text": [
      "100%|██████████| 20000/20000 [00:12<00:00, 1628.63it/s]\n"
     ]
    }
   ],
   "source": [
    "df_test = pd.read_csv('Data/eBay_ML_Challenge_Dataset_2021_quiz.tsv', sep='\\t', header=0)\n",
    "df_Feat_test = feature_extraction(df)\n",
    "df_Feat_test = df_Feat_test.fillna(0)\n",
    "X = df_Feat_test.values[:,0:6]\n",
    "predictions = model_ols.predict(X).astype(int)"
   ]
  },
  {
   "cell_type": "code",
   "execution_count": 117,
   "metadata": {},
   "outputs": [],
   "source": [
    "truth = df_Feat_test['Delivery_Days'].values"
   ]
  },
  {
   "cell_type": "code",
   "execution_count": 126,
   "metadata": {},
   "outputs": [
    {
     "name": "stdout",
     "output_type": "stream",
     "text": [
      "Loss is 0.81\n"
     ]
    }
   ],
   "source": [
    "difference = truth - predictions\n",
    "early = 0.4 * abs(np.multiply(difference < 0, difference).sum())\n",
    "late = 0.6 * np.multiply(difference > 0, difference).sum()\n",
    "\n",
    "loss = (early + late)/df_Feat_test.shape[0]\n",
    "\n",
    "print('Loss is {:.2f}'.format(loss))"
   ]
  }
 ],
 "metadata": {
  "interpreter": {
   "hash": "b5aa0f9a0be9f1343a5ec7e109bbd89cbf74f0084ce3931edc6bbdddc35cdcbf"
  },
  "kernelspec": {
   "display_name": "Python 3",
   "language": "python",
   "name": "python3"
  },
  "language_info": {
   "codemirror_mode": {
    "name": "ipython",
    "version": 3
   },
   "file_extension": ".py",
   "mimetype": "text/x-python",
   "name": "python",
   "nbconvert_exporter": "python",
   "pygments_lexer": "ipython3",
   "version": "3.6.10"
  }
 },
 "nbformat": 4,
 "nbformat_minor": 2
}

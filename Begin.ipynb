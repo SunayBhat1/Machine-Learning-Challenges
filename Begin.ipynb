{
 "cells": [
  {
   "cell_type": "code",
   "execution_count": 94,
   "metadata": {},
   "outputs": [],
   "source": [
    "# Library Imports\n",
    "import pandas as pd\n",
    "from datetime import datetime, timedelta\n",
    "import numpy as np\n",
    "from tqdm import tqdm\n",
    "from sklearn import linear_model\n",
    "from sklearn.cluster import KMeans\n",
    "import matplotlib.pyplot as plt\n",
    "import pgeocode     # Postal Code GeoDistance\n",
    "import pickle\n",
    "\n",
    "from eBayML_Functions import *"
   ]
  },
  {
   "cell_type": "code",
   "execution_count": 3,
   "metadata": {},
   "outputs": [],
   "source": [
    "# Setup File Names\n",
    "method = 'KM10_Linear'\n",
    "rev = 3\n",
    "linear_model_filename = 'Models/' + method + '_R' + str(rev)\n",
    "dataframe_filename = 'Features' + method + '_R' + str(rev) + '.pkl'\n",
    "km_model_filename = 'Models/' + method + '_R' + str(rev) + 'KMeans.sav'\n"
   ]
  },
  {
   "cell_type": "code",
   "execution_count": null,
   "metadata": {},
   "outputs": [],
   "source": [
    "# Import data\n",
    "df = pd.read_csv('Data/eBay_ML_Challenge_Dataset_2021_train.tsv', sep='\\t', header=0)\n",
    "df = df[800000:900000]\n",
    "print('Loaded raw data\\nSample(n): {}\\nColumns(m): {}'.format(df.shape[0],df.shape[1]))"
   ]
  },
  {
   "cell_type": "code",
   "execution_count": 17,
   "metadata": {},
   "outputs": [
    {
     "data": {
      "text/plain": [
       "(100000, 19)"
      ]
     },
     "execution_count": 17,
     "metadata": {},
     "output_type": "execute_result"
    }
   ],
   "source": [
    "'''\n",
    "Debug Code\n",
    "'''\n",
    "# print(df.columns)\n",
    "# df.nunique(axis=0)\n",
    "# df.package_size.value_counts()\n",
    "df.shape"
   ]
  },
  {
   "cell_type": "code",
   "execution_count": 9,
   "metadata": {},
   "outputs": [
    {
     "name": "stderr",
     "output_type": "stream",
     "text": [
      "/Users/sunaybhat/miniconda3/envs/py36_ML/lib/python3.6/site-packages/ipykernel_launcher.py:26: SettingWithCopyWarning: \n",
      "A value is trying to be set on a copy of a slice from a DataFrame.\n",
      "Try using .loc[row_indexer,col_indexer] = value instead\n",
      "\n",
      "See the caveats in the documentation: https://pandas.pydata.org/pandas-docs/stable/user_guide/indexing.html#returning-a-view-versus-a-copy\n",
      "100%|██████████| 100000/100000 [20:25<00:00, 81.61it/s]\n"
     ]
    }
   ],
   "source": [
    "df_Feat = feature_extraction(df)\n",
    "# df_Feat.to_pickle(dataframe_filename)\n",
    "df_Feat = df_Feat.fillna(0)"
   ]
  },
  {
   "cell_type": "code",
   "execution_count": 12,
   "metadata": {},
   "outputs": [],
   "source": [
    "df_Feat_Full = pd.read_pickle('Features/Full_1.pkl')"
   ]
  },
  {
   "cell_type": "code",
   "execution_count": 7,
   "metadata": {},
   "outputs": [
    {
     "name": "stderr",
     "output_type": "stream",
     "text": [
      "100%|██████████| 20/20 [05:14<00:00, 15.73s/it]\n"
     ]
    },
    {
     "data": {
      "image/png": "[encoded data removed]",
      "text/plain": [
       "<Figure size 432x288 with 1 Axes>"
      ]
     },
     "metadata": {
      "needs_background": "light"
     },
     "output_type": "display_data"
    }
   ],
   "source": [
    "# calculate distortion for a range of number of cluster\n",
    "distortions = []\n",
    "for i in tqdm(range(1, 21)):\n",
    "    km = KMeans(\n",
    "        n_clusters=i, init='random',\n",
    "        n_init=10, max_iter=300,\n",
    "        tol=1e-04, random_state=0\n",
    "    )\n",
    "    km.fit(df_Feat.values)\n",
    "    distortions.append(km.inertia_)\n",
    "\n",
    "# plot\n",
    "plt.plot(range(1, 21), distortions, marker='o')\n",
    "plt.xlabel('Number of clusters')\n",
    "plt.ylabel('Distortion')\n",
    "plt.show()"
   ]
  },
  {
   "cell_type": "code",
   "execution_count": 10,
   "metadata": {},
   "outputs": [],
   "source": [
    "# Kmeans\n",
    "NUM_CLUSTERS = 10\n",
    "km = KMeans(\n",
    "    n_clusters=NUM_CLUSTERS, init='random',\n",
    "    n_init=10, max_iter=300, \n",
    "    tol=1e-04, random_state=0\n",
    ")\n",
    "\n",
    "y_km = km.fit_predict(df_Feat.values)\n",
    "pickle.dump(km, open(km_model_filename, 'wb'))"
   ]
  },
  {
   "cell_type": "code",
   "execution_count": 11,
   "metadata": {},
   "outputs": [
    {
     "data": {
      "text/plain": [
       "array([   107,  12676,   9080, 109461,   8892,   9228,  10351,  13805,\n",
       "        13156,  13244])"
      ]
     },
     "execution_count": 11,
     "metadata": {},
     "output_type": "execute_result"
    }
   ],
   "source": [
    "values, counts = np.unique(y_km, return_counts=True)\n",
    "counts"
   ]
  },
  {
   "cell_type": "code",
   "execution_count": 28,
   "metadata": {},
   "outputs": [
    {
     "name": "stderr",
     "output_type": "stream",
     "text": [
      "100%|██████████| 10/10 [00:00<00:00, 53.81it/s]"
     ]
    },
    {
     "name": "stdout",
     "output_type": "stream",
     "text": [
      "Training 107.00 examples for cluster 0\n",
      "Training 12676.00 examples for cluster 1\n",
      "Training 9080.00 examples for cluster 2\n",
      "Training 109461.00 examples for cluster 3\n",
      "Training 8892.00 examples for cluster 4\n",
      "Training 9228.00 examples for cluster 5\n",
      "Training 10351.00 examples for cluster 6\n",
      "Training 13805.00 examples for cluster 7\n",
      "Training 13156.00 examples for cluster 8\n",
      "Training 13244.00 examples for cluster 9\n"
     ]
    },
    {
     "name": "stderr",
     "output_type": "stream",
     "text": [
      "\n"
     ]
    }
   ],
   "source": [
    "linear_models = list()\n",
    "\n",
    "for iClust in tqdm(range(NUM_CLUSTERS)):\n",
    "    df_Clust = df_Feat[y_km == iClust]\n",
    "    X = df_Clust.values[:,0:-1]\n",
    "    y = df_Clust.values[:,-1]\n",
    "    print('Training {:.2f} examples for cluster {}'.format(len(y),iClust))\n",
    "\n",
    "    linear_models.append(linear_model.LinearRegression(normalize=True))\n",
    "    linear_models[iClust].fit(X,y) \n",
    "    pickle.dump(linear_models[iClust], open(model_filename + str(iClust) + '.sav', 'wb'))"
   ]
  },
  {
   "cell_type": "code",
   "execution_count": 7,
   "metadata": {},
   "outputs": [
    {
     "name": "stderr",
     "output_type": "stream",
     "text": [
      "100%|██████████| 6/6 [00:00<00:00, 968.03it/s]\n"
     ]
    }
   ],
   "source": [
    "# Load Models\n",
    "linear_models = list()\n",
    "for iClust in tqdm(range(6)):\n",
    "    linear_models.append(pickle.load(open(model_filename + str(iClust) + '.sav', 'rb')))\n",
    "\n",
    "df_Feat = pd.read_pickle(dataframe_filename)\n",
    "df_Feat = df_Feat.fillna(0)\n"
   ]
  },
  {
   "cell_type": "code",
   "execution_count": 29,
   "metadata": {},
   "outputs": [
    {
     "name": "stdout",
     "output_type": "stream",
     "text": [
      "Loss is 0.42\n"
     ]
    }
   ],
   "source": [
    "loss,predictions = calc_loss_clust(linear_models,df_Feat.fillna(0))"
   ]
  },
  {
   "cell_type": "code",
   "execution_count": 40,
   "metadata": {},
   "outputs": [
    {
     "name": "stderr",
     "output_type": "stream",
     "text": [
      "/Users/sunaybhat/miniconda3/envs/py36_ML/lib/python3.6/site-packages/ipykernel_launcher.py:26: SettingWithCopyWarning: \n",
      "A value is trying to be set on a copy of a slice from a DataFrame.\n",
      "Try using .loc[row_indexer,col_indexer] = value instead\n",
      "\n",
      "See the caveats in the documentation: https://pandas.pydata.org/pandas-docs/stable/user_guide/indexing.html#returning-a-view-versus-a-copy\n"
     ]
    }
   ],
   "source": [
    "# Predict \n",
    "df_quiz = pd.read_csv('Data/eBay_ML_Challenge_Dataset_2021_quiz.tsv', sep='\\t', header=0)\n",
    "df_Feat_Quiz = feature_extraction(df_quiz)\n",
    "# df_Feat.to_pickle(dataframe_filename)\n",
    "predictions = predict(linear_models,df_Feat_Quiz.fillna(0))"
   ]
  },
  {
   "cell_type": "code",
   "execution_count": 43,
   "metadata": {},
   "outputs": [],
   "source": [
    "df_trial = df_Feat_Quiz.fillna(0)\n",
    "km_predict = km.predict(df_trial.values)\n",
    "predictions = np.empty(df_trial.shape[0])\n",
    "\n",
    "for iClust in range(len(linear_models)):\n",
    "    df_Clust = df_trial[km_predict == iClust]\n",
    "    X = df_Clust.values[:,0:-1]\n",
    "    predictions[km_predict == iClust] = linear_models[iClust].predict(X).astype(int)\n"
   ]
  },
  {
   "cell_type": "code",
   "execution_count": 91,
   "metadata": {},
   "outputs": [
    {
     "name": "stderr",
     "output_type": "stream",
     "text": [
      "100%|██████████| 2500000/2500000 [18:46<00:00, 2219.29it/s]\n"
     ]
    }
   ],
   "source": [
    "df_out =  pd.DataFrame(np.nan, index=df_quiz.index, columns=['record identifier','predicted delivery date']).astype(str)\n",
    "\n",
    "for iRow in tqdm(range(df_quiz.shape[0])):\n",
    "        try:\n",
    "                payment = datetime.strptime(df_quiz.iloc[iRow]['payment_datetime'][:16], '%Y-%m-%d %H:%M') + timedelta(hours = -int(df_quiz.iloc[iRow]['payment_datetime'][-6:-3]))\n",
    "                # delivery = datetime.strptime(df.iloc[iRow]['delivery_date'],'%Y-%m-%d')\n",
    "                delivery = payment + timedelta(days=predictions[iRow])\n",
    "                df_out.at[iRow,'record identifier'] = df_quiz['record_number'][iRow]\n",
    "                df_out.at[iRow,'predicted delivery date'] = delivery.strftime('%Y-%m-%d')\n",
    "        except:\n",
    "                print(iRow)\n",
    "                print(df.iloc[iRow]['payment_datetime'])\n",
    "                df_out.at[iRow,'record identifier'] = df_quiz['record_number'][iRow]\n",
    "                \n",
    "\n",
    "        "
   ]
  },
  {
   "cell_type": "code",
   "execution_count": 92,
   "metadata": {},
   "outputs": [],
   "source": [
    "df_out.to_csv('test_submit.tsv.gz', sep=\"\\t\",header=False,index=False, compression= 'gzip')"
   ]
  },
  {
   "cell_type": "code",
   "execution_count": null,
   "metadata": {},
   "outputs": [],
   "source": []
  }
 ],
 "metadata": {
  "interpreter": {
   "hash": "b5aa0f9a0be9f1343a5ec7e109bbd89cbf74f0084ce3931edc6bbdddc35cdcbf"
  },
  "kernelspec": {
   "display_name": "Python 3",
   "language": "python",
   "name": "python3"
  },
  "language_info": {
   "codemirror_mode": {
    "name": "ipython",
    "version": 3
   },
   "file_extension": ".py",
   "mimetype": "text/x-python",
   "name": "python",
   "nbconvert_exporter": "python",
   "pygments_lexer": "ipython3",
   "version": "3.6.10"
  }
 },
 "nbformat": 4,
 "nbformat_minor": 2
}

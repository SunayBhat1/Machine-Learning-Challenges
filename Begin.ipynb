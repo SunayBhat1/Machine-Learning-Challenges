{
 "cells": [
  {
   "cell_type": "markdown",
   "metadata": {},
   "source": [
    "# eBay 2021/22 ML Challenge\n",
    "## K-Means w/Linear Regression"
   ]
  },
  {
   "cell_type": "code",
   "execution_count": 1,
   "metadata": {},
   "outputs": [],
   "source": [
    "# Library Imports\n",
    "import pandas as pd\n",
    "from datetime import datetime, timedelta\n",
    "import numpy as np\n",
    "from tqdm import tqdm\n",
    "from sklearn import linear_model\n",
    "from sklearn.cluster import KMeans\n",
    "import matplotlib.pyplot as plt\n",
    "plt.style.use('seaborn')\n",
    "import pgeocode     # Postal Code GeoDistance\n",
    "import pickle\n",
    "\n",
    "from eBayML_Functions import *"
   ]
  },
  {
   "cell_type": "markdown",
   "metadata": {},
   "source": [
    "### Setup"
   ]
  },
  {
   "cell_type": "code",
   "execution_count": 3,
   "metadata": {},
   "outputs": [],
   "source": [
    "# Revision (file saves)\n",
    "method = 'KM10_Linear'\n",
    "rev = 4\n",
    "\n",
    "# Setup File Save Names\n",
    "dataframe_filename = 'Features/' + method + '_R' + str(rev) + '.pkl'\n",
    "km_model_filename = 'Models/' + method + '_R' + str(rev) + '_KMeans.sav'\n",
    "linear_model_filename = 'Models/' + method + '_R' + str(rev)\n",
    "\n",
    "# Turn of warning prints\n",
    "pd.options.mode.chained_assignment = None # Turn of setting with copy warning\n"
   ]
  },
  {
   "cell_type": "code",
   "execution_count": null,
   "metadata": {},
   "outputs": [],
   "source": [
    "# Import data\n",
    "df_raw = pd.read_csv('Data/eBay_ML_Challenge_Dataset_2021_train.tsv', sep='\\t', header=0)\n",
    "# df_raw = df_raw[0:3000000]\n",
    "print('Loaded raw data\\nSample(n): {}\\nColumns(m): {}'.format(df_raw.shape[0],df_raw.shape[1]))"
   ]
  },
  {
   "cell_type": "markdown",
   "metadata": {},
   "source": [
    "### Feature Extraction"
   ]
  },
  {
   "cell_type": "code",
   "execution_count": null,
   "metadata": {},
   "outputs": [],
   "source": [
    "# Extract Features\n",
    "df_Feat = feature_extraction(df_raw)\n",
    "\n",
    "# Mean Imputation\n",
    "df_Feat = df_Feat[df_Feat.columns.values].fillna(value=df_Feat[df_Feat.columns.values].mean()) \n",
    "\n",
    "# Save to 'Features\" folder\n",
    "df_Feat.to_pickle(dataframe_filename)\n",
    "\n",
    "print('Done and saved! Feature head:')\n",
    "print(df_Feat.head())"
   ]
  },
  {
   "cell_type": "markdown",
   "metadata": {},
   "source": [
    "##### Feature Load Option"
   ]
  },
  {
   "cell_type": "code",
   "execution_count": 10,
   "metadata": {},
   "outputs": [],
   "source": [
    "# Load Features\n",
    "# df_Feat = pd.read_pickle(dataframe_filename)\n",
    "\n",
    "# Load and concatenate Colab feature files\n",
    "dataframe_filename = 'Features/' + method + '_R' + str(rev) + '_1.pkl'\n",
    "df_Feat_1 = pd.read_pickle(dataframe_filename)\n",
    "dataframe_filename = 'Features/' + method + '_R' + str(rev) + '_2.pkl'\n",
    "df_Feat_2 = pd.read_pickle(dataframe_filename)\n",
    "# dataframe_filename = 'Features/' + method + '_R' + str(rev) + '_3.pkl'\n",
    "# df_Feat_3 = pd.read_pickle(dataframe_filename)\n",
    "# dataframe_filename = 'Features/' + method + '_R' + str(rev) + '_4.pkl'\n",
    "# df_Feat_4 = pd.read_pickle(dataframe_filename)\n",
    "# dataframe_filename = 'Features/' + method + '_R' + str(rev) + '_5.pkl'\n",
    "# df_Feat_5 = pd.read_pickle(dataframe_filename)\n",
    "\n",
    "\n",
    "\n",
    "df_Feat = pd.concat([df_Feat_1,df_Feat_2])#,df_Feat_3,df_Feat_4,df_Feat_5])\n",
    "\n",
    "print('Loaded raw data\\nSample(n): {}\\nColumns(m): {}'.format(df_Feat.shape[0],df_Feat.shape[1]))"
   ]
  },
  {
   "cell_type": "code",
   "execution_count": 11,
   "metadata": {},
   "outputs": [
    {
     "data": {
      "text/html": [
       "<div>\n",
       "<style scoped>\n",
       "    .dataframe tbody tr th:only-of-type {\n",
       "        vertical-align: middle;\n",
       "    }\n",
       "\n",
       "    .dataframe tbody tr th {\n",
       "        vertical-align: top;\n",
       "    }\n",
       "\n",
       "    .dataframe thead th {\n",
       "        text-align: right;\n",
       "    }\n",
       "</style>\n",
       "<table border=\"1\" class=\"dataframe\">\n",
       "  <thead>\n",
       "    <tr style=\"text-align: right;\">\n",
       "      <th></th>\n",
       "      <th>Type</th>\n",
       "      <th>Handle</th>\n",
       "      <th>Ship_Method</th>\n",
       "      <th>Ship_Fee</th>\n",
       "      <th>Min</th>\n",
       "      <th>Max</th>\n",
       "      <th>Range</th>\n",
       "      <th>Item_Zip</th>\n",
       "      <th>Buyer_Zip</th>\n",
       "      <th>Dist</th>\n",
       "      <th>Weight</th>\n",
       "      <th>Category</th>\n",
       "      <th>Price</th>\n",
       "      <th>Quantity</th>\n",
       "      <th>Size</th>\n",
       "      <th>Processing_Days</th>\n",
       "      <th>Delivery_Days</th>\n",
       "    </tr>\n",
       "  </thead>\n",
       "  <tbody>\n",
       "    <tr>\n",
       "      <th>0</th>\n",
       "      <td>1.0</td>\n",
       "      <td>3.0</td>\n",
       "      <td>0</td>\n",
       "      <td>0.00</td>\n",
       "      <td>3</td>\n",
       "      <td>5</td>\n",
       "      <td>2</td>\n",
       "      <td>97219</td>\n",
       "      <td>49040</td>\n",
       "      <td>3001.984391</td>\n",
       "      <td>5</td>\n",
       "      <td>13</td>\n",
       "      <td>27.95</td>\n",
       "      <td>1</td>\n",
       "      <td>1</td>\n",
       "      <td>2.0</td>\n",
       "      <td>4.0</td>\n",
       "    </tr>\n",
       "    <tr>\n",
       "      <th>1</th>\n",
       "      <td>0.0</td>\n",
       "      <td>2.0</td>\n",
       "      <td>0</td>\n",
       "      <td>3.00</td>\n",
       "      <td>3</td>\n",
       "      <td>5</td>\n",
       "      <td>2</td>\n",
       "      <td>11415</td>\n",
       "      <td>62521</td>\n",
       "      <td>2052.265263</td>\n",
       "      <td>0</td>\n",
       "      <td>0</td>\n",
       "      <td>20.50</td>\n",
       "      <td>1</td>\n",
       "      <td>3</td>\n",
       "      <td>0.0</td>\n",
       "      <td>3.0</td>\n",
       "    </tr>\n",
       "    <tr>\n",
       "      <th>2</th>\n",
       "      <td>1.0</td>\n",
       "      <td>1.0</td>\n",
       "      <td>0</td>\n",
       "      <td>4.50</td>\n",
       "      <td>3</td>\n",
       "      <td>5</td>\n",
       "      <td>2</td>\n",
       "      <td>27292</td>\n",
       "      <td>53010</td>\n",
       "      <td>1102.546134</td>\n",
       "      <td>9</td>\n",
       "      <td>1</td>\n",
       "      <td>19.90</td>\n",
       "      <td>1</td>\n",
       "      <td>3</td>\n",
       "      <td>1.0</td>\n",
       "      <td>3.0</td>\n",
       "    </tr>\n",
       "    <tr>\n",
       "      <th>3</th>\n",
       "      <td>1.0</td>\n",
       "      <td>1.0</td>\n",
       "      <td>0</td>\n",
       "      <td>0.00</td>\n",
       "      <td>3</td>\n",
       "      <td>5</td>\n",
       "      <td>2</td>\n",
       "      <td>90703</td>\n",
       "      <td>80022</td>\n",
       "      <td>1343.238967</td>\n",
       "      <td>8</td>\n",
       "      <td>1</td>\n",
       "      <td>35.50</td>\n",
       "      <td>1</td>\n",
       "      <td>3</td>\n",
       "      <td>1.0</td>\n",
       "      <td>4.0</td>\n",
       "    </tr>\n",
       "    <tr>\n",
       "      <th>4</th>\n",
       "      <td>1.0</td>\n",
       "      <td>1.0</td>\n",
       "      <td>0</td>\n",
       "      <td>0.00</td>\n",
       "      <td>3</td>\n",
       "      <td>5</td>\n",
       "      <td>2</td>\n",
       "      <td>90703</td>\n",
       "      <td>55070</td>\n",
       "      <td>2458.659875</td>\n",
       "      <td>3</td>\n",
       "      <td>1</td>\n",
       "      <td>25.00</td>\n",
       "      <td>1</td>\n",
       "      <td>3</td>\n",
       "      <td>0.0</td>\n",
       "      <td>2.0</td>\n",
       "    </tr>\n",
       "    <tr>\n",
       "      <th>5</th>\n",
       "      <td>1.0</td>\n",
       "      <td>1.0</td>\n",
       "      <td>0</td>\n",
       "      <td>0.00</td>\n",
       "      <td>3</td>\n",
       "      <td>5</td>\n",
       "      <td>2</td>\n",
       "      <td>43215</td>\n",
       "      <td>77063</td>\n",
       "      <td>1609.050758</td>\n",
       "      <td>1</td>\n",
       "      <td>3</td>\n",
       "      <td>10.39</td>\n",
       "      <td>1</td>\n",
       "      <td>3</td>\n",
       "      <td>1.0</td>\n",
       "      <td>3.0</td>\n",
       "    </tr>\n",
       "    <tr>\n",
       "      <th>6</th>\n",
       "      <td>1.0</td>\n",
       "      <td>1.0</td>\n",
       "      <td>0</td>\n",
       "      <td>0.00</td>\n",
       "      <td>3</td>\n",
       "      <td>5</td>\n",
       "      <td>2</td>\n",
       "      <td>91304</td>\n",
       "      <td>60565</td>\n",
       "      <td>2782.648489</td>\n",
       "      <td>0</td>\n",
       "      <td>11</td>\n",
       "      <td>5.70</td>\n",
       "      <td>1</td>\n",
       "      <td>3</td>\n",
       "      <td>0.0</td>\n",
       "      <td>2.0</td>\n",
       "    </tr>\n",
       "    <tr>\n",
       "      <th>7</th>\n",
       "      <td>1.0</td>\n",
       "      <td>1.0</td>\n",
       "      <td>0</td>\n",
       "      <td>2.95</td>\n",
       "      <td>3</td>\n",
       "      <td>5</td>\n",
       "      <td>2</td>\n",
       "      <td>49735</td>\n",
       "      <td>29379</td>\n",
       "      <td>1172.750624</td>\n",
       "      <td>1</td>\n",
       "      <td>1</td>\n",
       "      <td>6.00</td>\n",
       "      <td>1</td>\n",
       "      <td>3</td>\n",
       "      <td>0.0</td>\n",
       "      <td>2.0</td>\n",
       "    </tr>\n",
       "    <tr>\n",
       "      <th>8</th>\n",
       "      <td>1.0</td>\n",
       "      <td>4.0</td>\n",
       "      <td>3</td>\n",
       "      <td>0.00</td>\n",
       "      <td>2</td>\n",
       "      <td>8</td>\n",
       "      <td>6</td>\n",
       "      <td>43606</td>\n",
       "      <td>32958</td>\n",
       "      <td>1569.435452</td>\n",
       "      <td>0</td>\n",
       "      <td>18</td>\n",
       "      <td>5.55</td>\n",
       "      <td>1</td>\n",
       "      <td>0</td>\n",
       "      <td>1.0</td>\n",
       "      <td>3.0</td>\n",
       "    </tr>\n",
       "  </tbody>\n",
       "</table>\n",
       "</div>"
      ],
      "text/plain": [
       "   Type  Handle  Ship_Method  Ship_Fee  Min  Max  Range  Item_Zip  Buyer_Zip  \\\n",
       "0   1.0     3.0            0      0.00    3    5      2     97219      49040   \n",
       "1   0.0     2.0            0      3.00    3    5      2     11415      62521   \n",
       "2   1.0     1.0            0      4.50    3    5      2     27292      53010   \n",
       "3   1.0     1.0            0      0.00    3    5      2     90703      80022   \n",
       "4   1.0     1.0            0      0.00    3    5      2     90703      55070   \n",
       "5   1.0     1.0            0      0.00    3    5      2     43215      77063   \n",
       "6   1.0     1.0            0      0.00    3    5      2     91304      60565   \n",
       "7   1.0     1.0            0      2.95    3    5      2     49735      29379   \n",
       "8   1.0     4.0            3      0.00    2    8      6     43606      32958   \n",
       "\n",
       "          Dist  Weight  Category  Price  Quantity  Size  Processing_Days  \\\n",
       "0  3001.984391       5        13  27.95         1     1              2.0   \n",
       "1  2052.265263       0         0  20.50         1     3              0.0   \n",
       "2  1102.546134       9         1  19.90         1     3              1.0   \n",
       "3  1343.238967       8         1  35.50         1     3              1.0   \n",
       "4  2458.659875       3         1  25.00         1     3              0.0   \n",
       "5  1609.050758       1         3  10.39         1     3              1.0   \n",
       "6  2782.648489       0        11   5.70         1     3              0.0   \n",
       "7  1172.750624       1         1   6.00         1     3              0.0   \n",
       "8  1569.435452       0        18   5.55         1     0              1.0   \n",
       "\n",
       "   Delivery_Days  \n",
       "0            4.0  \n",
       "1            3.0  \n",
       "2            3.0  \n",
       "3            4.0  \n",
       "4            2.0  \n",
       "5            3.0  \n",
       "6            2.0  \n",
       "7            2.0  \n",
       "8            3.0  "
      ]
     },
     "execution_count": 11,
     "metadata": {},
     "output_type": "execute_result"
    }
   ],
   "source": [
    "df_Feat"
   ]
  },
  {
   "cell_type": "markdown",
   "metadata": {},
   "source": [
    "### Model Training"
   ]
  },
  {
   "cell_type": "code",
   "execution_count": 7,
   "metadata": {},
   "outputs": [],
   "source": [
    "# def train_kmeans(df,num_clusters,feature_list,all_feat=False,save_filename=km_model_filename,verbose=True):\n",
    "#     km = KMeans(n_clusters=num_clusters, init='random',n_init=10, max_iter=300,tol=1e-04, random_state=0)\n",
    "#     if all_feat: y_km = km.fit_predict(df.loc[:, df.columns != 'Delivery_Days'].values)\n",
    "#     else: y_km = km.fit_predict(df[feature_list].values)\n",
    "#     values, counts = np.unique(y_km, return_counts=True)\n",
    "#     if verbose: print('Done with K-Means {} Clusters\\nCounts/Counts: {}'.format(NUM_CLUSTERS,counts))\n",
    "#     pickle.dump(km, open(save_filename, 'wb'))\n",
    "#     return km, y_km\n",
    "\n",
    "# def train_linears(df,num_clusters,cluster_assignments,feature_list,all_feat=False,save_filename=linear_model_filename,verbose=True):\n",
    "#     linear_models = list()\n",
    "\n",
    "#     for iClust in tqdm(range(num_clusters), disable=not(verbose)):\n",
    "#         df_Clust = df[cluster_assignments == iClust]\n",
    "#         if all_feat: X = df_Clust.loc[:, df_Clust.columns != 'Delivery_Days'].values\n",
    "#         else: X = df_Clust[feature_list].values\n",
    "#         y = df_Clust['Delivery_Days'].values\n",
    "#         linear_models.append(linear_model.LinearRegression(normalize=True))\n",
    "#         linear_models[iClust].fit(X,y) \n",
    "#         pickle.dump(linear_models[iClust], open(save_filename + '_' + str(iClust+1) + '.sav', 'wb'))\n",
    "\n",
    "#     return linear_models"
   ]
  },
  {
   "cell_type": "code",
   "execution_count": 8,
   "metadata": {},
   "outputs": [
    {
     "name": "stdout",
     "output_type": "stream",
     "text": [
      "Done with K-Means 16 Clusters\n",
      "Counts/Counts: [151 102 134  89 156 122 192 142  80 136  94 141 110 116 116 119]\n"
     ]
    }
   ],
   "source": [
    "# Kmeans Training\n",
    "NUM_CLUSTERS = 16\n",
    "km_feature_list = ['Type','Ship_Method','Range','Item_Zip','Buyer_Zip','Category','Quantity','Size']\n",
    "km_model, y_km = train_kmeans(df_Feat,NUM_CLUSTERS,km_feature_list,all_feat = True)\n"
   ]
  },
  {
   "cell_type": "code",
   "execution_count": 9,
   "metadata": {},
   "outputs": [
    {
     "name": "stderr",
     "output_type": "stream",
     "text": [
      "100%|██████████| 16/16 [00:00<00:00, 135.85it/s]\n"
     ]
    }
   ],
   "source": [
    "# LinearReg Models Training\n",
    "linear_feature_list = ['Handle','Ship_Fee','Min','Max','Range','Dist','Weight','Price','Processing_Days']\n",
    "linear_models = train_linears(df_Feat,NUM_CLUSTERS,y_km,linear_feature_list,all_feat = True)"
   ]
  },
  {
   "cell_type": "markdown",
   "metadata": {},
   "source": [
    "##### Model Load Option"
   ]
  },
  {
   "cell_type": "code",
   "execution_count": 10,
   "metadata": {},
   "outputs": [],
   "source": [
    "### Load Models\n",
    "\n",
    "# km_model = pickle.load(open(km_model_filename, 'rb'))\n",
    "\n",
    "# linear_models = list()\n",
    "# for iClust in tqdm(range(6)):\n",
    "#     linear_models.append(pickle.load(open(linear_model_filename + str(iClust+1) + '.sav', 'rb')))\n"
   ]
  },
  {
   "cell_type": "markdown",
   "metadata": {},
   "source": [
    "### Loss Calculation"
   ]
  },
  {
   "cell_type": "code",
   "execution_count": 11,
   "metadata": {},
   "outputs": [],
   "source": [
    "# def calc_loss(df,km_model,lin_models,km_features,lin_features,all_feat=False,verbose=True):\n",
    "\n",
    "#     if all_feat: km_predict = km_model.predict(df.loc[:, df.columns != 'Delivery_Days'].values)\n",
    "#     else: km_predict = km_model.predict(df[km_features].values)\n",
    "\n",
    "#     predictions = np.empty(df.shape[0])\n",
    "\n",
    "#     for iClust in range(len(lin_models)):\n",
    "#         df_Clust = df[km_predict == iClust]\n",
    "#         if all_feat: X = df_Clust.loc[:, df_Clust.columns != 'Delivery_Days'].values\n",
    "#         else: X = df_Clust[lin_features].values\n",
    "#         predictions[km_predict == iClust] = lin_models[iClust].predict(X).astype(int)\n",
    "\n",
    "#     given_days = df['Delivery_Days'].values\n",
    "#     error_days = given_days - predictions\n",
    "#     early = 0.4 * abs(np.multiply(error_days < 0, error_days).sum())\n",
    "#     late = 0.6 * np.multiply(error_days > 0, error_days).sum()\n",
    "#     loss = (early + late)/df.shape[0]\n",
    "#     if verbose: print('Loss is {:.2f}'.format(loss))\n",
    "#     return loss, predictions "
   ]
  },
  {
   "cell_type": "code",
   "execution_count": 12,
   "metadata": {},
   "outputs": [
    {
     "name": "stdout",
     "output_type": "stream",
     "text": [
      "Loss is 0.63\n"
     ]
    }
   ],
   "source": [
    "loss,predictions = calc_loss(df_Feat,km_model,linear_models,km_feature_list,linear_feature_list,all_feat = True)"
   ]
  },
  {
   "cell_type": "markdown",
   "metadata": {},
   "source": [
    "### Quiz Prediction"
   ]
  },
  {
   "cell_type": "code",
   "execution_count": 13,
   "metadata": {},
   "outputs": [],
   "source": [
    "# def predict(df,km_model,lin_models,km_features,lin_features,all_feat=False,verbose=True):\n",
    "\n",
    "#     if all_feat: km_predict = km_model.predict(df.loc[:, df.columns != 'Delivery_Days'].values)\n",
    "#     else: km_predict = km_model.predict(df[km_features].values)\n",
    "\n",
    "#     predictions = np.empty(df.shape[0])\n",
    "\n",
    "#     for iClust in range(len(lin_models)):\n",
    "#         df_Clust = df[km_predict == iClust]\n",
    "#         if all_feat: X = df_Clust.loc[:, df_Clust.columns != 'Delivery_Days'].values\n",
    "#         else: X = df_Clust[lin_features].values\n",
    "#         predictions[km_predict == iClust] = lin_models[iClust].predict(X).astype(int)\n",
    "\n",
    "#     return predictions \n",
    "\n",
    "# def saveQuiz(df,predictions,filename):\n",
    "#     df_out =  pd.DataFrame(np.nan, index=df_quiz.index, columns=['record identifier','predicted delivery date']).astype(str)\n",
    "\n",
    "#     for iRow in tqdm(range(df.shape[0])):\n",
    "#         payment = datetime.strptime(df.iloc[iRow]['payment_datetime'][:16], '%Y-%m-%d %H:%M') + timedelta(hours = -int(df_quiz.iloc[iRow]['payment_datetime'][-6:-3]))\n",
    "#         delivery = payment + timedelta(days=predictions[iRow])\n",
    "#         df_out.at[iRow,'record identifier'] = df_quiz['record_number'][iRow]\n",
    "#         df_out.at[iRow,'predicted delivery date'] = delivery.strftime('%Y-%m-%d')\n",
    "\n",
    "#     df_out.to_csv(filename, sep=\"\\t\",header=False,index=False, compression= 'gzip')\n"
   ]
  },
  {
   "cell_type": "markdown",
   "metadata": {},
   "source": [
    "##### Load and Process"
   ]
  },
  {
   "cell_type": "code",
   "execution_count": 14,
   "metadata": {},
   "outputs": [
    {
     "name": "stderr",
     "output_type": "stream",
     "text": [
      "  0%|          | 81/2500000 [00:00<51:52, 803.12it/s]"
     ]
    },
    {
     "name": "stdout",
     "output_type": "stream",
     "text": [
      "Extracting Quiz/Test Features\n"
     ]
    },
    {
     "name": "stderr",
     "output_type": "stream",
     "text": [
      "100%|██████████| 2500000/2500000 [35:03<00:00, 1188.39it/s]\n"
     ]
    }
   ],
   "source": [
    "# Predict \n",
    "dataframeQuiz_filename = 'Features/' + method + '_Quiz_R' + str(rev) + '.pkl'\n",
    "results_filename = 'SubDataTrain_Results.tsv.gz'\n",
    "\n",
    "df_quiz = pd.read_csv('Data/eBay_ML_Challenge_Dataset_2021_quiz.tsv', sep='\\t', header=0)\n",
    "df_Feat_Quiz = feature_extraction(df_quiz)\n",
    "\n",
    "# Mean Imputation\n",
    "df_Feat_Quiz = df_Feat_Quiz[df_Feat_Quiz.columns.values].fillna(value=df_Feat_Quiz[df_Feat_Quiz.columns.values].mean()) \n",
    "\n",
    "# Save Quiz Features\n",
    "df_Feat_Quiz.to_pickle(dataframeQuiz_filename)"
   ]
  },
  {
   "cell_type": "markdown",
   "metadata": {},
   "source": [
    "##### Quiz Features Load Option"
   ]
  },
  {
   "cell_type": "code",
   "execution_count": 15,
   "metadata": {},
   "outputs": [],
   "source": [
    "# Load Features\n",
    "# df_Feat_Quiz = pd.read_pickle(dataframeQuiz_filename)"
   ]
  },
  {
   "cell_type": "markdown",
   "metadata": {},
   "source": [
    "##### Predict and Save"
   ]
  },
  {
   "cell_type": "code",
   "execution_count": null,
   "metadata": {},
   "outputs": [],
   "source": [
    "predictions = predict(df_Feat_Quiz,km_model,linear_models,km_feature_list,linear_feature_list,all_feat = True)\n",
    "results_filename = 'Results.tsv.gz'\n",
    "saveQuiz(df_quiz,predictions,results_filename)"
   ]
  },
  {
   "cell_type": "markdown",
   "metadata": {},
   "source": [
    "## Appendix Code"
   ]
  },
  {
   "cell_type": "markdown",
   "metadata": {},
   "source": [
    "### Feature Engineering"
   ]
  },
  {
   "cell_type": "code",
   "execution_count": null,
   "metadata": {},
   "outputs": [],
   "source": [
    "'''\n",
    "Analyze a specific column (raw data)\n",
    "'''\n",
    "\n",
    "# feature = df.item_price.values\n",
    "\n",
    "# feature[np.isnan(feature)] = np.nanmean(feature)\n",
    "\n",
    "# plt.hist(feature, bins=30,range=[0,200]);\n",
    "# plt.ylabel('Probability')\n",
    "# plt.xlabel('Data')\n",
    "# # plt.scatter(range(len(feature)),feature)\n",
    "\n",
    "# print('Mean :' + str(feature.mean()))\n",
    "# print('Min :' + str(feature.min()))\n",
    "# print('Max :' + str(feature.max()))\n",
    "# print('Median: ' + str(np.median(feature)))\n",
    "# vals,counts = np.unique(feature, return_counts=True)\n",
    "# index = np.argmax(counts)\n",
    "# print('Mode: ' + str(vals[index]))"
   ]
  },
  {
   "cell_type": "code",
   "execution_count": null,
   "metadata": {},
   "outputs": [],
   "source": [
    "'''\n",
    "Analyze a specific feature (processed data)\n",
    "'''\n",
    "\n",
    "# feature = df_Feat.Price.values\n",
    "\n",
    "# plt.hist(feature, bins=30);\n",
    "# plt.ylabel('Value')\n",
    "# plt.xlabel('Value')\n",
    "# # plt.scatter(range(len(feature)),feature)\n",
    "\n",
    "# print('Mean :' + str(feature.mean()))\n",
    "# print('Min :' + str(feature.min()))\n",
    "# print('Max :' + str(feature.max()))\n",
    "# print('Median: ' + str(np.median(feature)))\n",
    "# vals,counts = np.unique(feature, return_counts=True)\n",
    "# index = np.argmax(counts)\n",
    "# print('Mode: ' + str(vals[index]))"
   ]
  },
  {
   "cell_type": "markdown",
   "metadata": {},
   "source": [
    "### Parameter Optimization"
   ]
  },
  {
   "cell_type": "code",
   "execution_count": null,
   "metadata": {},
   "outputs": [],
   "source": [
    "'''\n",
    "K-Means Optimization: Distortion Plot\n",
    "'''\n",
    "# distortions1 = []\n",
    "# distortions2 = []\n",
    "# differences = []\n",
    "# clusters_sizes = range(2,23,2)\n",
    "# for i in tqdm(clusters_sizes):\n",
    "#     km = KMeans(\n",
    "#         n_clusters=i, init='random',\n",
    "#         n_init=10, max_iter=300,\n",
    "#         tol=1e-04, random_state=0\n",
    "#     )\n",
    "#     km.fit(df_Feat.values)\n",
    "#     distortions1.append(km.inertia_)\n",
    "#     km.fit(df_Feat[['Type','Ship_Method','Range','Item_Zip','Buyer_Zip','Category','Quantity','Size']].values)\n",
    "#     distortions2.append(km.inertia_)\n",
    "\n",
    "\n",
    "\n",
    "# # plot\n",
    "# fig, (ax1, ax2) = plt.subplots(1, 2,figsize=(14,6), dpi= 150)\n",
    "# fig.suptitle('Distortions Full vs Class Features',fontweight='bold',fontsize = 16)\n",
    "# ax1.plot(clusters_sizes, distortions1, marker='o',c='b')\n",
    "# ax1.set_xlabel('Number of clusters')\n",
    "# ax1.set_ylabel('Distortion')\n",
    "# ax2.plot(clusters_sizes, distortions2, marker='o',c='k')\n",
    "# ax2.set_xlabel('Number of clusters')\n",
    "# ax2.set_ylabel('Distortion')\n",
    "# plt.show()\n",
    "# plt.savefig('Images/Distortions_Comparison.png')"
   ]
  },
  {
   "cell_type": "code",
   "execution_count": null,
   "metadata": {},
   "outputs": [
    {
     "name": "stderr",
     "output_type": "stream",
     "text": [
      "100%|██████████| 14/14 [06:27<00:00, 27.68s/it]\n"
     ]
    },
    {
     "data": {
      "image/png": "[encoded data removed]",
      "text/plain": [
       "<Figure size 576x396 with 1 Axes>"
      ]
     },
     "metadata": {},
     "output_type": "display_data"
    },
    {
     "data": {
      "text/plain": [
       "<Figure size 576x396 with 0 Axes>"
      ]
     },
     "metadata": {},
     "output_type": "display_data"
    }
   ],
   "source": [
    "'''\n",
    "K-Means Optimization: Clusters vs Loss\n",
    "'''\n",
    "\n",
    "# km_feature_list = ['Type','Ship_Method','Range','Item_Zip','Buyer_Zip','Category','Quantity','Size']\n",
    "# linear_feature_list = ['Handle','Ship_Fee','Min','Max','Range','Dist','Weight','Price','Processing_Days']\n",
    "\n",
    "# losses1 = []\n",
    "# losses2 = []\n",
    "\n",
    "# clusters_sizes = range(2,29,2)\n",
    "# for i_num_clust in tqdm(clusters_sizes):\n",
    "#     km_model, y_km = train_kmeans(df_Feat,i_num_clust,km_feature_list,all_feat = False,verbose=False)\n",
    "#     linear_models = train_linears(df_Feat,i_num_clust,y_km,linear_feature_list,all_feat = False,verbose=False)\n",
    "#     loss,predictions = calc_loss(df_Feat,km_model,linear_models,km_feature_list,linear_feature_list,all_feat = False,verbose=False)\n",
    "#     losses1.append(loss)\n",
    "\n",
    "#     km_model, y_km = train_kmeans(df_Feat,i_num_clust,km_feature_list,all_feat = False,verbose=False)\n",
    "#     linear_models = train_linears(df_Feat,i_num_clust,y_km,linear_feature_list,all_feat = False,verbose=False)\n",
    "#     loss,predictions = calc_loss(df_Feat,km_model,linear_models,km_feature_list,linear_feature_list,all_feat = False,verbose=False)\n",
    "#     losses2.append(loss)\n",
    "\n",
    "# # plot\n",
    "# fig, ax1 = plt.subplots(1, 1)\n",
    "# fig.suptitle('Losses Full vs Clusters',fontweight='bold',fontsize = 16)\n",
    "# ax1.plot(clusters_sizes, losses1, marker='o',c='b')\n",
    "# ax1.set_xlabel('Number of clusters')\n",
    "# ax1.set_ylabel('Distortion')\n",
    "# ax1.plot(clusters_sizes, losses2, c='k')\n",
    "# ax1.legend(['Min Features','All Features'])\n",
    "# plt.show()\n",
    "# plt.savefig('Images/Cluster_Cts_Comparison.png')"
   ]
  },
  {
   "cell_type": "markdown",
   "metadata": {},
   "source": [
    "### Not used or tried "
   ]
  },
  {
   "cell_type": "code",
   "execution_count": null,
   "metadata": {},
   "outputs": [],
   "source": [
    "# def my_custom_loss_func(y_true, y_pred):\n",
    "#     diff = y_true - y_pred\n",
    "#     early = 0.4 * abs(np.multiply(diff < 0, diff).sum())\n",
    "#     late = 0.6 * np.multiply(diff > 0, diff).sum()\n",
    "#     return (early + late)/max(diff.shape)\n",
    "\n",
    "# score = make_scorer(my_custom_loss_func, greater_is_better=False)"
   ]
  }
 ],
 "metadata": {
  "interpreter": {
   "hash": "b5aa0f9a0be9f1343a5ec7e109bbd89cbf74f0084ce3931edc6bbdddc35cdcbf"
  },
  "kernelspec": {
   "display_name": "Python 3",
   "language": "python",
   "name": "python3"
  },
  "language_info": {
   "codemirror_mode": {
    "name": "ipython",
    "version": 3
   },
   "file_extension": ".py",
   "mimetype": "text/x-python",
   "name": "python",
   "nbconvert_exporter": "python",
   "pygments_lexer": "ipython3",
   "version": "3.6.10"
  }
 },
 "nbformat": 4,
 "nbformat_minor": 2
}

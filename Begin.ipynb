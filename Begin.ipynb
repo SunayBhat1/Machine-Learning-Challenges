{
 "cells": [
  {
   "cell_type": "code",
   "execution_count": 61,
   "metadata": {},
   "outputs": [],
   "source": [
    "# Library Imports\n",
    "import pandas as pd\n",
    "from datetime import datetime, timedelta\n",
    "import numpy as np\n",
    "from sklearn.linear_model import LinearRegression\n",
    "import pgeocode     # Postal Code GeoDistance"
   ]
  },
  {
   "cell_type": "code",
   "execution_count": 2,
   "metadata": {},
   "outputs": [],
   "source": [
    "df = pd.read_csv('Data/eBay_ML_Challenge_Dataset_2021_train.tsv', sep='\\t', header=0)\n",
    "df = df.iloc[0:20000]"
   ]
  },
  {
   "cell_type": "code",
   "execution_count": 43,
   "metadata": {},
   "outputs": [
    {
     "name": "stdout",
     "output_type": "stream",
     "text": [
      "Index(['b2c_c2c', 'seller_id', 'declared_handling_days',\n",
      "       'acceptance_scan_timestamp', 'shipment_method_id', 'shipping_fee',\n",
      "       'carrier_min_estimate', 'carrier_max_estimate', 'item_zip', 'buyer_zip',\n",
      "       'category_id', 'item_price', 'quantity', 'payment_datetime',\n",
      "       'delivery_date', 'weight', 'weight_units', 'package_size',\n",
      "       'record_number'],\n",
      "      dtype='object')\n"
     ]
    },
    {
     "data": {
      "text/plain": [
       "b2c_c2c                          2\n",
       "seller_id                    12200\n",
       "declared_handling_days          10\n",
       "acceptance_scan_timestamp    19730\n",
       "shipment_method_id              15\n",
       "shipping_fee                   862\n",
       "carrier_min_estimate             5\n",
       "carrier_max_estimate             6\n",
       "item_zip                      7414\n",
       "buyer_zip                    10368\n",
       "category_id                     33\n",
       "item_price                    3049\n",
       "quantity                        17\n",
       "payment_datetime             19994\n",
       "delivery_date                  631\n",
       "weight                         181\n",
       "weight_units                     1\n",
       "package_size                     5\n",
       "record_number                20000\n",
       "dtype: int64"
      ]
     },
     "execution_count": 43,
     "metadata": {},
     "output_type": "execute_result"
    }
   ],
   "source": [
    "print(df.columns)\n",
    "df.nunique(axis=0)"
   ]
  },
  {
   "cell_type": "code",
   "execution_count": 53,
   "metadata": {},
   "outputs": [
    {
     "data": {
      "text/plain": [
       "3    12678\n",
       "2     7313\n",
       "1        8\n",
       "6        1\n",
       "Name: carrier_min_estimate, dtype: int64"
      ]
     },
     "execution_count": 53,
     "metadata": {},
     "output_type": "execute_result"
    }
   ],
   "source": [
    "(abs(df['carrier_min_estimate'])).value_counts()"
   ]
  },
  {
   "cell_type": "code",
   "execution_count": 57,
   "metadata": {},
   "outputs": [],
   "source": [
    "##### Data Formatting #######\n",
    "\n",
    "# Create Feature Dataframe\n",
    "df_Feat =  pd.DataFrame(np.nan, index=range(df.shape[0]), columns=['Type','Handle','Ship_Method','Min','Max','Dist'])\n",
    "\n",
    "# Transaction Type (Bussiness to Consumer = 1.5, C2C = .5)\n",
    "df_Feat['Type'] = (df['b2c_c2c'] == 'B2C').astype(float) + 0.5\n",
    "\n",
    "# Handling Days\n",
    "df_Feat['Handle'] = df['declared_handling_days']\n",
    "\n",
    "# SHipment Method (1:15)\n",
    "df_Feat['Ship_Method'] = df['shipment_method_id'] + 1\n",
    "\n",
    "# Min/Max Estimates\n",
    "df_Feat['Min'] = abs(df['carrier_min_estimate'])\n",
    "df_Feat['Max'] = abs(df['carrier_max_estimate'])\n",
    "\n",
    "# Get Postal Code Distance\n",
    "df_Feat['Dist'] = pd.Series(postal_dist.query_postal_code(df['item_zip'].values, df['buyer_zip'].values))\n",
    "\n",
    "# df['accept_time'] = np.nan\n",
    "# df['time_zone'] = np.nan\n",
    "\n",
    "# # payment to delivery days\n",
    "# df[\"delivery_days\"] = \"\"\n",
    "# for iRow in range(df.shape[0]):\n",
    "#     payment = datetime.strptime(df.iloc[iRow]['payment_datetime'][:16], '%Y-%m-%d %H:%M') + timedelta(hours = -int(df.iloc[iRow]['payment_datetime'][-6:-3]))\n",
    "#     delivery = datetime.strptime(df.iloc[iRow]['delivery_date'],'%Y-%m-%d')\n",
    "#     difference = delivery - payment\n",
    "#     df.at[iRow,'delivery_days'] = difference.days\n",
    "\n"
   ]
  },
  {
   "cell_type": "code",
   "execution_count": 58,
   "metadata": {},
   "outputs": [
    {
     "data": {
      "text/html": [
       "<div>\n",
       "<style scoped>\n",
       "    .dataframe tbody tr th:only-of-type {\n",
       "        vertical-align: middle;\n",
       "    }\n",
       "\n",
       "    .dataframe tbody tr th {\n",
       "        vertical-align: top;\n",
       "    }\n",
       "\n",
       "    .dataframe thead th {\n",
       "        text-align: right;\n",
       "    }\n",
       "</style>\n",
       "<table border=\"1\" class=\"dataframe\">\n",
       "  <thead>\n",
       "    <tr style=\"text-align: right;\">\n",
       "      <th></th>\n",
       "      <th>Type</th>\n",
       "      <th>Handle</th>\n",
       "      <th>Ship_Method</th>\n",
       "      <th>Min</th>\n",
       "      <th>Max</th>\n",
       "      <th>Dist</th>\n",
       "    </tr>\n",
       "  </thead>\n",
       "  <tbody>\n",
       "    <tr>\n",
       "      <th>0</th>\n",
       "      <td>1.5</td>\n",
       "      <td>3.0</td>\n",
       "      <td>1</td>\n",
       "      <td>3</td>\n",
       "      <td>5</td>\n",
       "      <td>3001.984391</td>\n",
       "    </tr>\n",
       "    <tr>\n",
       "      <th>1</th>\n",
       "      <td>0.5</td>\n",
       "      <td>2.0</td>\n",
       "      <td>1</td>\n",
       "      <td>3</td>\n",
       "      <td>5</td>\n",
       "      <td>NaN</td>\n",
       "    </tr>\n",
       "    <tr>\n",
       "      <th>2</th>\n",
       "      <td>1.5</td>\n",
       "      <td>1.0</td>\n",
       "      <td>1</td>\n",
       "      <td>3</td>\n",
       "      <td>5</td>\n",
       "      <td>1102.546134</td>\n",
       "    </tr>\n",
       "    <tr>\n",
       "      <th>3</th>\n",
       "      <td>1.5</td>\n",
       "      <td>1.0</td>\n",
       "      <td>1</td>\n",
       "      <td>3</td>\n",
       "      <td>5</td>\n",
       "      <td>1343.238967</td>\n",
       "    </tr>\n",
       "    <tr>\n",
       "      <th>4</th>\n",
       "      <td>1.5</td>\n",
       "      <td>1.0</td>\n",
       "      <td>1</td>\n",
       "      <td>3</td>\n",
       "      <td>5</td>\n",
       "      <td>2458.659875</td>\n",
       "    </tr>\n",
       "    <tr>\n",
       "      <th>...</th>\n",
       "      <td>...</td>\n",
       "      <td>...</td>\n",
       "      <td>...</td>\n",
       "      <td>...</td>\n",
       "      <td>...</td>\n",
       "      <td>...</td>\n",
       "    </tr>\n",
       "    <tr>\n",
       "      <th>95</th>\n",
       "      <td>1.5</td>\n",
       "      <td>0.0</td>\n",
       "      <td>1</td>\n",
       "      <td>3</td>\n",
       "      <td>5</td>\n",
       "      <td>1006.298768</td>\n",
       "    </tr>\n",
       "    <tr>\n",
       "      <th>96</th>\n",
       "      <td>1.5</td>\n",
       "      <td>1.0</td>\n",
       "      <td>1</td>\n",
       "      <td>3</td>\n",
       "      <td>5</td>\n",
       "      <td>2685.709509</td>\n",
       "    </tr>\n",
       "    <tr>\n",
       "      <th>97</th>\n",
       "      <td>1.5</td>\n",
       "      <td>1.0</td>\n",
       "      <td>1</td>\n",
       "      <td>3</td>\n",
       "      <td>5</td>\n",
       "      <td>1621.530487</td>\n",
       "    </tr>\n",
       "    <tr>\n",
       "      <th>98</th>\n",
       "      <td>1.5</td>\n",
       "      <td>1.0</td>\n",
       "      <td>2</td>\n",
       "      <td>2</td>\n",
       "      <td>5</td>\n",
       "      <td>3105.900279</td>\n",
       "    </tr>\n",
       "    <tr>\n",
       "      <th>99</th>\n",
       "      <td>1.5</td>\n",
       "      <td>10.0</td>\n",
       "      <td>1</td>\n",
       "      <td>3</td>\n",
       "      <td>5</td>\n",
       "      <td>2038.485844</td>\n",
       "    </tr>\n",
       "  </tbody>\n",
       "</table>\n",
       "<p>100 rows × 6 columns</p>\n",
       "</div>"
      ],
      "text/plain": [
       "    Type  Handle  Ship_Method  Min  Max         Dist\n",
       "0    1.5     3.0            1    3    5  3001.984391\n",
       "1    0.5     2.0            1    3    5          NaN\n",
       "2    1.5     1.0            1    3    5  1102.546134\n",
       "3    1.5     1.0            1    3    5  1343.238967\n",
       "4    1.5     1.0            1    3    5  2458.659875\n",
       "..   ...     ...          ...  ...  ...          ...\n",
       "95   1.5     0.0            1    3    5  1006.298768\n",
       "96   1.5     1.0            1    3    5  2685.709509\n",
       "97   1.5     1.0            1    3    5  1621.530487\n",
       "98   1.5     1.0            2    2    5  3105.900279\n",
       "99   1.5    10.0            1    3    5  2038.485844\n",
       "\n",
       "[100 rows x 6 columns]"
      ]
     },
     "execution_count": 58,
     "metadata": {},
     "output_type": "execute_result"
    }
   ],
   "source": [
    "df_Feat[0:100]"
   ]
  }
 ],
 "metadata": {
  "interpreter": {
   "hash": "b5aa0f9a0be9f1343a5ec7e109bbd89cbf74f0084ce3931edc6bbdddc35cdcbf"
  },
  "kernelspec": {
   "display_name": "Python 3",
   "language": "python",
   "name": "python3"
  },
  "language_info": {
   "codemirror_mode": {
    "name": "ipython",
    "version": 3
   },
   "file_extension": ".py",
   "mimetype": "text/x-python",
   "name": "python",
   "nbconvert_exporter": "python",
   "pygments_lexer": "ipython3",
   "version": "3.6.10"
  }
 },
 "nbformat": 4,
 "nbformat_minor": 2
}

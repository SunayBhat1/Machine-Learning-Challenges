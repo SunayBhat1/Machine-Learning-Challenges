{
 "cells": [
  {
   "cell_type": "code",
   "execution_count": 1,
   "metadata": {},
   "outputs": [],
   "source": [
    "# Library Imports\n",
    "import pandas as pd\n",
    "from datetime import datetime, timedelta\n",
    "import numpy as np\n",
    "from tqdm import tqdm\n",
    "from sklearn import linear_model\n",
    "from sklearn.cluster import KMeans\n",
    "import matplotlib.pyplot as plt\n",
    "plt.style.use('seaborn')\n",
    "import pgeocode     # Postal Code GeoDistance\n",
    "import pickle\n",
    "\n",
    "# from eBayML_Functions import *"
   ]
  },
  {
   "cell_type": "code",
   "execution_count": 2,
   "metadata": {},
   "outputs": [],
   "source": [
    "# Setup File Names\n",
    "method = 'KM10_Linear'\n",
    "rev = 3\n",
    "linear_model_filename = 'Models/' + method + '_R' + str(rev)\n",
    "dataframe_filename = 'Features/' + method + '_R' + str(rev) + '.pkl'\n",
    "km_model_filename = 'Models/' + method + '_R' + str(rev) + '_KMeans.sav'\n"
   ]
  },
  {
   "cell_type": "code",
   "execution_count": 3,
   "metadata": {},
   "outputs": [
    {
     "name": "stdout",
     "output_type": "stream",
     "text": [
      "Loaded raw data\n",
      "Sample(n): 80000\n",
      "Columns(m): 19\n"
     ]
    }
   ],
   "source": [
    "# Import data\n",
    "df = pd.read_csv('Data/eBay_ML_Challenge_Dataset_2021_train.tsv', sep='\\t', header=0)\n",
    "df = df[1000000:1080000]\n",
    "print('Loaded raw data\\nSample(n): {}\\nColumns(m): {}'.format(df.shape[0],df.shape[1]))"
   ]
  },
  {
   "cell_type": "code",
   "execution_count": null,
   "metadata": {},
   "outputs": [],
   "source": [
    "'''\n",
    "Debug Code\n",
    "'''\n",
    "# print(df.columns)\n",
    "# df.nunique(axis=0)\n",
    "\n",
    "'''\n",
    "Analyze a specific column\n",
    "'''\n",
    "\n",
    "# feature = df.item_price.values\n",
    "\n",
    "# feature[np.isnan(feature)] = np.nanmean(feature)\n",
    "\n",
    "# plt.hist(feature, bins=30,range=[0,200]);\n",
    "# plt.ylabel('Probability')\n",
    "# plt.xlabel('Data')\n",
    "# # plt.scatter(range(len(feature)),feature)\n",
    "\n",
    "# print('Mean :' + str(feature.mean()))\n",
    "# print('Min :' + str(feature.min()))\n",
    "# print('Max :' + str(feature.max()))\n",
    "# print('Median: ' + str(np.median(feature)))\n",
    "# vals,counts = np.unique(feature, return_counts=True)\n",
    "# index = np.argmax(counts)\n",
    "# print('Mode: ' + str(vals[index]))"
   ]
  },
  {
   "cell_type": "code",
   "execution_count": 39,
   "metadata": {},
   "outputs": [],
   "source": [
    "def feature_extraction(df):\n",
    "    # Create Feature Dataframe\n",
    "    df_Feat =  pd.DataFrame(np.nan, index=df.index, columns=['Type','Handle','Ship_Method','Ship_Fee','Min','Max','Range','Item_Zip','Buyer_Zip',\\\n",
    "        'Dist','Weight','Category','Price','Quantity','Size','Processing_Days','Delivering_Days','Delivery_Days'])\n",
    "\n",
    "    # Transaction Type (Bussiness to Consumer = 1, C2C = 0)\n",
    "    df_Feat['Type'] = (df['b2c_c2c'] == 'B2C').astype(float)\n",
    "\n",
    "    # Handling Days, clip at 4\n",
    "    df_Feat['Handle'] = df['declared_handling_days']\n",
    "    df_Feat['Handle'][df_Feat['Handle'] > 4] = 4\n",
    "\n",
    "    # Shipment Method (1:15)\n",
    "    df_Feat['Ship_Method'] = df['shipment_method_id']\n",
    "\n",
    "    # Shipment Fee, clip at 5\n",
    "    df_Feat['Ship_Fee'] = df['shipping_fee']\n",
    "    df_Feat['Ship_Fee'][df_Feat['Ship_Fee'] > 5] = 5\n",
    "\n",
    "    # Min/Max Estimates, Range of Estimate\n",
    "    df_Feat['Min'] = abs(df['carrier_min_estimate'])\n",
    "    df_Feat['Max'] = abs(df['carrier_max_estimate'])\n",
    "    df_Feat['Range'] = abs(df['carrier_max_estimate'])- abs(df['carrier_min_estimate'])\n",
    "\n",
    "    #Zip Codes\n",
    "    df_Feat['Item_Zip'] = df['item_zip'].str[0:5].apply(pd.to_numeric, errors = 'coerce')\n",
    "    df_Feat['Buyer_Zip'] = df['buyer_zip'].str[0:5].apply(pd.to_numeric, errors = 'coerce')\n",
    "\n",
    "    # Get Postal Code Distance['Weight']\n",
    "    postal_dist = pgeocode.GeoDistance('us')\n",
    "    df_Feat['Dist'] = pd.Series(postal_dist.query_postal_code(df['item_zip'].values, df['buyer_zip'].values),index=df.index)\n",
    "\n",
    "    # Weight, clip at 20lbs\n",
    "    df_Feat['Weight'] = df['weight']\n",
    "    df_Feat.loc[df['weight_units'] == 2]['Weight'] = (df[df['weight_units'] == 2]['weight'] * 2.2)\n",
    "    df_Feat['Weight'][df_Feat['Weight'] > 20] = 20\n",
    "\n",
    "    # Category ID\n",
    "    df_Feat['Category'] = df['category_id']\n",
    "\n",
    "    # Price, clip at 200\n",
    "    df_Feat['Price'] = df['item_price']\n",
    "    df_Feat['Price'][df_Feat['Price'] > 200] = 200\n",
    "\n",
    "    # Quantity, clip at 2\n",
    "    df_Feat['Quantity'] = df['quantity']\n",
    "    df_Feat['Quantity'][df_Feat['Quantity'] > 2] = 2\n",
    "\n",
    "    # Package Size (letter: 1, large env: 2, Thick Env: 3, large: 4, none: 0)\n",
    "    df_Feat['Size'] = (df['package_size'] == 'LETTER') * 1 + (df['package_size'] == 'LARGE_ENVELOPE') * 2 + (df['package_size'] == 'PACKAGE_THICK_ENVELOPE') * 3 \\\n",
    "        + (df['package_size'] == 'LARGE_PACKAGE') * 4\n",
    "\n",
    "    # Get Delivery Days to train on \n",
    "    if not(df.delivery_date.isna().all()):\n",
    "        print('Extracting Training Features')\n",
    "        for iRow in tqdm(df.index):\n",
    "            payment = datetime.strptime(df.loc[iRow]['payment_datetime'][:16], '%Y-%m-%d %H:%M') + timedelta(hours = -int(df.loc[iRow]['payment_datetime'][-6:-3]))\n",
    "            acceptance = datetime.strptime(df.loc[iRow]['acceptance_scan_timestamp'][:16], '%Y-%m-%d %H:%M') + timedelta(hours = -int(df.loc[iRow]['acceptance_scan_timestamp'][-6:-3]))\n",
    "            delivery = datetime.strptime(df.loc[iRow]['delivery_date'],'%Y-%m-%d')\n",
    "            processing = acceptance - payment\n",
    "            delivering = delivery - acceptance\n",
    "            total = delivery - payment\n",
    "\n",
    "            df_Feat.at[iRow,'Processing_Days'] = processing.days\n",
    "            df_Feat.at[iRow,'Delivering_Days'] = delivering.days\n",
    "            df_Feat.at[iRow,'Delivery_Days'] = total.days\n",
    "\n",
    "    else:\n",
    "        print('Extracting Quiz/Test Features')\n",
    "        for iRow in tqdm(range(df.index)):\n",
    "            payment = datetime.strptime(df.loc[iRow]['payment_datetime'][:16], '%Y-%m-%d %H:%M') + timedelta(hours = -int(df.loc[iRow]['payment_datetime'][-6:-3]))\n",
    "            acceptance = datetime.strptime(df.ioc[iRow]['acceptance_scan_timestamp'][:16], '%Y-%m-%d %H:%M') + timedelta(hours = -int(df.loc[iRow]['acceptance_scan_timestamp'][-6:-3]))\n",
    "            processing = acceptance-payment\n",
    "\n",
    "            df_Feat.at[iRow,'Processing_Days'] = processing.days\n",
    "\n",
    "    return df_Feat"
   ]
  },
  {
   "cell_type": "code",
   "execution_count": 40,
   "metadata": {},
   "outputs": [
    {
     "name": "stderr",
     "output_type": "stream",
     "text": [
      "/Users/sunaybhat/miniconda3/envs/py36_ML/lib/python3.6/site-packages/ipykernel_launcher.py:18: SettingWithCopyWarning: \n",
      "A value is trying to be set on a copy of a slice from a DataFrame\n",
      "\n",
      "See the caveats in the documentation: https://pandas.pydata.org/pandas-docs/stable/user_guide/indexing.html#returning-a-view-versus-a-copy\n",
      "/Users/sunaybhat/miniconda3/envs/py36_ML/lib/python3.6/site-packages/ipykernel_launcher.py:36: SettingWithCopyWarning: \n",
      "A value is trying to be set on a copy of a slice from a DataFrame\n",
      "\n",
      "See the caveats in the documentation: https://pandas.pydata.org/pandas-docs/stable/user_guide/indexing.html#returning-a-view-versus-a-copy\n",
      "/Users/sunaybhat/miniconda3/envs/py36_ML/lib/python3.6/site-packages/ipykernel_launcher.py:43: SettingWithCopyWarning: \n",
      "A value is trying to be set on a copy of a slice from a DataFrame\n",
      "\n",
      "See the caveats in the documentation: https://pandas.pydata.org/pandas-docs/stable/user_guide/indexing.html#returning-a-view-versus-a-copy\n",
      "/Users/sunaybhat/miniconda3/envs/py36_ML/lib/python3.6/site-packages/ipykernel_launcher.py:47: SettingWithCopyWarning: \n",
      "A value is trying to be set on a copy of a slice from a DataFrame\n",
      "\n",
      "See the caveats in the documentation: https://pandas.pydata.org/pandas-docs/stable/user_guide/indexing.html#returning-a-view-versus-a-copy\n",
      "  0%|          | 177/80000 [00:00<01:29, 895.47it/s]"
     ]
    },
    {
     "name": "stdout",
     "output_type": "stream",
     "text": [
      "Extracting Training Features\n"
     ]
    },
    {
     "name": "stderr",
     "output_type": "stream",
     "text": [
      "100%|██████████| 80000/80000 [01:16<00:00, 1040.02it/s]\n"
     ]
    }
   ],
   "source": [
    "# Extract Features\n",
    "df_Feat = feature_extraction(df)\n",
    "\n",
    "# Mean Imputation\n",
    "df_Feat = df_Feat[df_Feat.columns.values].fillna(value=df_Feat[df_Feat.columns.values].mean()) \n",
    "\n",
    "df_Feat.head()\n",
    "df_Feat.to_pickle(dataframe_filename)"
   ]
  },
  {
   "cell_type": "code",
   "execution_count": null,
   "metadata": {},
   "outputs": [],
   "source": [
    "'''\n",
    "Analyze a specific feature\n",
    "'''\n",
    "\n",
    "# feature = df_Feat.Price.values\n",
    "\n",
    "# plt.hist(feature, bins=30);\n",
    "# plt.ylabel('Value')\n",
    "# plt.xlabel('Value')\n",
    "# # plt.scatter(range(len(feature)),feature)\n",
    "\n",
    "# print('Mean :' + str(feature.mean()))\n",
    "# print('Min :' + str(feature.min()))\n",
    "# print('Max :' + str(feature.max()))\n",
    "# print('Median: ' + str(np.median(feature)))\n",
    "# vals,counts = np.unique(feature, return_counts=True)\n",
    "# index = np.argmax(counts)\n",
    "# print('Mode: ' + str(vals[index]))"
   ]
  },
  {
   "cell_type": "code",
   "execution_count": 12,
   "metadata": {},
   "outputs": [],
   "source": [
    "# df_Feat = pd.read_pickle('Features/Full_1.pkl')"
   ]
  },
  {
   "cell_type": "code",
   "execution_count": null,
   "metadata": {},
   "outputs": [],
   "source": [
    "'''\n",
    "K-Means Optimization: Distortion Plot\n",
    "'''\n",
    "distortions1 = []\n",
    "distortions2 = []\n",
    "differences = []\n",
    "clusters_sizes = range(2,23,2)\n",
    "for i in tqdm(clusters_sizes):\n",
    "    km = KMeans(\n",
    "        n_clusters=i, init='random',\n",
    "        n_init=10, max_iter=300,\n",
    "        tol=1e-04, random_state=0\n",
    "    )\n",
    "    km.fit(df_Feat.values)\n",
    "    distortions1.append(km.inertia_)\n",
    "    km.fit(df_Feat[['Type','Ship_Method','Range','Item_Zip','Buyer_Zip','Category','Quantity','Size']].values)\n",
    "    distortions2.append(km.inertia_)\n",
    "\n",
    "\n",
    "\n",
    "# plot\n",
    "fig, (ax1, ax2) = plt.subplots(1, 2,figsize=(14,6), dpi= 150)\n",
    "fig.suptitle('Distortions Full vs Class Features',fontweight='bold',fontsize = 16)\n",
    "ax1.plot(clusters_sizes, distortions1, marker='o',c='b')\n",
    "ax1.set_xlabel('Number of clusters')\n",
    "ax1.set_ylabel('Distortion')\n",
    "ax2.plot(clusters_sizes, distortions2, marker='o',c='k')\n",
    "ax2.set_xlabel('Number of clusters')\n",
    "ax2.set_ylabel('Distortion')\n",
    "plt.show()\n",
    "plt.savefig('Images/Distortions_Comparison.png')"
   ]
  },
  {
   "cell_type": "code",
   "execution_count": 89,
   "metadata": {},
   "outputs": [
    {
     "name": "stdout",
     "output_type": "stream",
     "text": [
      "Done with K-Means 20 Cluster. Counts: [3877 3762 2899 4364 2980 3565 3808 3757 3583 6143 5464 4877 4662 3483\n",
      " 2604 3789 3255 5369 4212 3547]\n"
     ]
    }
   ],
   "source": [
    "# Kmeans\n",
    "NUM_CLUSTERS = 20\n",
    "km = KMeans(\n",
    "    n_clusters=NUM_CLUSTERS, init='random',\n",
    "    n_init=10, max_iter=300, \n",
    "    tol=1e-04, random_state=0\n",
    ")\n",
    "\n",
    "y_km = km.fit_predict(df_Feat[['Type','Ship_Method','Range','Item_Zip','Buyer_Zip','Category','Quantity','Size']].values)\n",
    "values, counts = np.unique(y_km, return_counts=True)\n",
    "print('Done with K-Means {} Cluster. Counts: {}'.format(NUM_CLUSTERS,counts))\n",
    "pickle.dump(km, open(km_model_filename, 'wb'))"
   ]
  },
  {
   "cell_type": "code",
   "execution_count": 90,
   "metadata": {},
   "outputs": [
    {
     "name": "stderr",
     "output_type": "stream",
     "text": [
      "100%|██████████| 20/20 [00:00<00:00, 161.17it/s]\n"
     ]
    }
   ],
   "source": [
    "linear_models = list()\n",
    "\n",
    "for iClust in tqdm(range(NUM_CLUSTERS)):\n",
    "    df_Clust = df_Feat[y_km == iClust]\n",
    "    X = df_Clust.loc[:, df_Clust.columns != 'Delivery_Days'].values\n",
    "    y = df_Clust['Delivery_Days'].values\n",
    "    linear_models.append(linear_model.LinearRegression(normalize=True))\n",
    "    linear_models[iClust].fit(X,y) \n",
    "    pickle.dump(linear_models[iClust], open(linear_model_filename + '_' + str(iClust+1) + '.sav', 'wb'))"
   ]
  },
  {
   "cell_type": "code",
   "execution_count": 7,
   "metadata": {},
   "outputs": [
    {
     "name": "stderr",
     "output_type": "stream",
     "text": [
      "100%|██████████| 6/6 [00:00<00:00, 968.03it/s]\n"
     ]
    }
   ],
   "source": [
    "# Load Models\n",
    "# linear_models = list()\n",
    "# for iClust in tqdm(range(6)):\n",
    "#     linear_models.append(pickle.load(open(model_filename + str(iClust+1) + '.sav', 'rb')))\n",
    "\n",
    "# df_Feat = pd.read_pickle(dataframe_filename)\n",
    "# df_Feat = df_Feat.fillna(0)\n"
   ]
  },
  {
   "cell_type": "code",
   "execution_count": 93,
   "metadata": {},
   "outputs": [],
   "source": [
    "def calc_loss_clust(models,df):\n",
    "\n",
    "    km_predict = km.predict(df[['Type','Ship_Method','Range','Item_Zip','Buyer_Zip','Category','Quantity','Size']].values)\n",
    "    predictions = np.empty(df.shape[0])\n",
    "\n",
    "    for iClust in range(len(models)):\n",
    "        df_Clust = df[km_predict == iClust]\n",
    "        X = df_Clust.loc[:, df_Clust.columns != 'Delivery_Days'].values\n",
    "        predictions[km_predict == iClust] = models[iClust].predict(X).astype(int)\n",
    "\n",
    "    truth = df['Delivery_Days'].values\n",
    "    difference = truth - predictions\n",
    "    early = 0.4 * abs(np.multiply(difference < 0, difference).sum())\n",
    "    late = 0.6 * np.multiply(difference > 0, difference).sum()\n",
    "    loss = (early + late)/df.shape[0]\n",
    "    print('Loss is {:.2f}'.format(loss))\n",
    "    return loss, predictions "
   ]
  },
  {
   "cell_type": "code",
   "execution_count": 94,
   "metadata": {},
   "outputs": [
    {
     "name": "stdout",
     "output_type": "stream",
     "text": [
      "Loss is 0.24\n"
     ]
    }
   ],
   "source": [
    "loss,predictions = calc_loss_clust(linear_models,df_Feat)"
   ]
  },
  {
   "cell_type": "code",
   "execution_count": 40,
   "metadata": {},
   "outputs": [
    {
     "name": "stderr",
     "output_type": "stream",
     "text": [
      "/Users/sunaybhat/miniconda3/envs/py36_ML/lib/python3.6/site-packages/ipykernel_launcher.py:26: SettingWithCopyWarning: \n",
      "A value is trying to be set on a copy of a slice from a DataFrame.\n",
      "Try using .loc[row_indexer,col_indexer] = value instead\n",
      "\n",
      "See the caveats in the documentation: https://pandas.pydata.org/pandas-docs/stable/user_guide/indexing.html#returning-a-view-versus-a-copy\n"
     ]
    }
   ],
   "source": [
    "# Predict \n",
    "df_quiz = pd.read_csv('Data/eBay_ML_Challenge_Dataset_2021_quiz.tsv', sep='\\t', header=0)\n",
    "df_Feat_Quiz = feature_extraction(df_quiz)\n",
    "# df_Feat.to_pickle(dataframe_filename)\n",
    "predictions = predict(linear_models,df_Feat_Quiz.fillna(0))"
   ]
  },
  {
   "cell_type": "code",
   "execution_count": 43,
   "metadata": {},
   "outputs": [],
   "source": [
    "df_trial = df_Feat_Quiz.fillna(0)\n",
    "km_predict = km.predict(df_trial.values)\n",
    "predictions = np.empty(df_trial.shape[0])\n",
    "\n",
    "for iClust in range(len(linear_models)):\n",
    "    df_Clust = df_trial[km_predict == iClust]\n",
    "    X = df_Clust.values[:,0:-1]\n",
    "    predictions[km_predict == iClust] = linear_models[iClust].predict(X).astype(int)\n"
   ]
  },
  {
   "cell_type": "code",
   "execution_count": 91,
   "metadata": {},
   "outputs": [
    {
     "name": "stderr",
     "output_type": "stream",
     "text": [
      "100%|██████████| 2500000/2500000 [18:46<00:00, 2219.29it/s]\n"
     ]
    }
   ],
   "source": [
    "df_out =  pd.DataFrame(np.nan, index=df_quiz.index, columns=['record identifier','predicted delivery date']).astype(str)\n",
    "\n",
    "for iRow in tqdm(range(df_quiz.shape[0])):\n",
    "        try:\n",
    "                payment = datetime.strptime(df_quiz.iloc[iRow]['payment_datetime'][:16], '%Y-%m-%d %H:%M') + timedelta(hours = -int(df_quiz.iloc[iRow]['payment_datetime'][-6:-3]))\n",
    "                # delivery = datetime.strptime(df.iloc[iRow]['delivery_date'],'%Y-%m-%d')\n",
    "                delivery = payment + timedelta(days=predictions[iRow])\n",
    "                df_out.at[iRow,'record identifier'] = df_quiz['record_number'][iRow]\n",
    "                df_out.at[iRow,'predicted delivery date'] = delivery.strftime('%Y-%m-%d')\n",
    "        except:\n",
    "                print(iRow)\n",
    "                print(df.iloc[iRow]['payment_datetime'])\n",
    "                df_out.at[iRow,'record identifier'] = df_quiz['record_number'][iRow]\n",
    "                \n",
    "\n",
    "        "
   ]
  },
  {
   "cell_type": "code",
   "execution_count": 92,
   "metadata": {},
   "outputs": [],
   "source": [
    "df_out.to_csv('quix_results.tsv.gz', sep=\"\\t\",header=False,index=False, compression= 'gzip')"
   ]
  },
  {
   "cell_type": "code",
   "execution_count": null,
   "metadata": {},
   "outputs": [],
   "source": []
  }
 ],
 "metadata": {
  "interpreter": {
   "hash": "b5aa0f9a0be9f1343a5ec7e109bbd89cbf74f0084ce3931edc6bbdddc35cdcbf"
  },
  "kernelspec": {
   "display_name": "Python 3",
   "language": "python",
   "name": "python3"
  },
  "language_info": {
   "codemirror_mode": {
    "name": "ipython",
    "version": 3
   },
   "file_extension": ".py",
   "mimetype": "text/x-python",
   "name": "python",
   "nbconvert_exporter": "python",
   "pygments_lexer": "ipython3",
   "version": "3.6.10"
  }
 },
 "nbformat": 4,
 "nbformat_minor": 2
}

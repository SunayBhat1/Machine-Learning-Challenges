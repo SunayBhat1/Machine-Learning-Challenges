{
 "cells": [
  {
   "cell_type": "code",
   "execution_count": 46,
   "metadata": {},
   "outputs": [],
   "source": [
    "import numpy as np\n",
    "import torch\n",
    "from torch import nn\n",
    "import torch.nn.functional as F   \n",
    "import torch.utils.data as data\n",
    "import torch.optim as optim \n",
    "import matplotlib.pyplot as plt\n",
    "plt.style.use('seaborn')\n",
    "\n",
    "device = torch.device(\"cuda:0\" if torch.cuda.is_available() else \"cpu\")"
   ]
  },
  {
   "cell_type": "code",
   "execution_count": 6,
   "metadata": {},
   "outputs": [],
   "source": [
    "# dataset definition\n",
    "class load_data(data.Dataset):\n",
    "    # load the dataset\n",
    "    def __init__(self, path):\n",
    "        # store the inputs and outputs\n",
    "        data = np.load(path)\n",
    "        self.X = data['X_data']\n",
    "        self.y = data['y_data']\n",
    " \n",
    "    # number of rows in the dataset\n",
    "    def __len__(self):\n",
    "        return len(self.X)\n",
    " \n",
    "    # get a row at an index\n",
    "    def __getitem__(self, idx):\n",
    "        return [self.X[idx], self.y[idx]]"
   ]
  },
  {
   "cell_type": "code",
   "execution_count": 28,
   "metadata": {},
   "outputs": [],
   "source": [
    "batch_size = 32\n",
    "\n",
    "myData = load_data('data.npz')\n",
    "# Random split\n",
    "train_set_size = int(len(myData) * 0.8)\n",
    "test_set_size = len(myData) - train_set_size\n",
    "train_set, test_set = data.random_split(myData, [train_set_size, test_set_size])\n",
    "\n",
    "train_data = data.DataLoader(myData, batch_size=batch_size, shuffle=True)\n",
    "test_data = data.DataLoader(myData, batch_size=test_set_size, shuffle=True)"
   ]
  },
  {
   "cell_type": "code",
   "execution_count": 36,
   "metadata": {},
   "outputs": [],
   "source": [
    "class Network(nn.Module):\n",
    "    def __init__(self,input_dim,num_classes,depth=3,width=512):\n",
    "        super().__init__()\n",
    "\n",
    "        self.input_dim = input_dim\n",
    "        self.depth = depth\n",
    "        self.width = width\n",
    "        self.output_dim = num_classes\n",
    "\n",
    "        self.input2hidden = nn.Linear(in_features=input_dim, out_features=width)\n",
    "        hidden_layers = []\n",
    "        for i_hlayer in range(depth - 1): \n",
    "            hidden_layers.append(nn.Linear(in_features=width, out_features=width))\n",
    "            hidden_layers.append(nn.GELU())\n",
    "        self.hidden_layers = nn.Sequential(*hidden_layers)\n",
    "        self.hidden2output = nn.Linear(in_features=width, out_features=self.output_dim)\n",
    "\n",
    "        self.class_probs = nn.Softmax(dim=1)\n",
    "        \n",
    "    def forward(self, z):\n",
    "        z = self.hidden_layers(F.gelu(self.input2hidden(z)))\n",
    "        return  self.class_probs(self.hidden2output(z))"
   ]
  },
  {
   "cell_type": "code",
   "execution_count": 56,
   "metadata": {},
   "outputs": [],
   "source": [
    "net = Network(input_dim=myData.X.shape[1], num_classes=10)\n",
    "net.train()\n",
    "\n",
    "# Optimizer and Run options\n",
    "learning_rate = 0.001 # For optimizer (SGD or Adam)\n",
    "weight_decay = 1e-5   # For optimizer (SGD or Adam)\n",
    "optimizer = optim.Adam(params=net.parameters(),\n",
    "                        lr=learning_rate,\n",
    "                        weight_decay=weight_decay)\n",
    "\n",
    "def get_accuracy(model, mydata):\n",
    "    correct, total = 0, 0\n",
    "    for[x_batch,y_batch] in mydata:\n",
    "        x_batch = x_batch.type(torch.float32).to(device)\n",
    "        zs = model(x_batch)\n",
    "        pred = zs.max(1, keepdim=True)[1] # get the index of the max logit\n",
    "        correct += pred.eq(y_batch.view_as(pred)).sum().item()\n",
    "        total += int(y_batch.shape[0])\n",
    "        return correct / total"
   ]
  },
  {
   "cell_type": "code",
   "execution_count": 57,
   "metadata": {},
   "outputs": [
    {
     "name": "stdout",
     "output_type": "stream",
     "text": [
      "Epoch: 0, Train Loss: 2.155032411289215, Train Acc: 0.1875, Test Acc: 0.32725\n",
      "Epoch: 1, Train Loss: 2.1728289704322816, Train Acc: 0.34375, Test Acc: 0.294625\n",
      "Epoch: 2, Train Loss: 2.1283970027923584, Train Acc: 0.34375, Test Acc: 0.34425\n",
      "Epoch: 3, Train Loss: 2.1236505981445313, Train Acc: 0.375, Test Acc: 0.341875\n",
      "Epoch: 4, Train Loss: 2.123650671482086, Train Acc: 0.25, Test Acc: 0.33025\n",
      "Epoch: 5, Train Loss: 2.1236555291175843, Train Acc: 0.1875, Test Acc: 0.33925\n",
      "Epoch: 6, Train Loss: 2.1236511894226076, Train Acc: 0.4375, Test Acc: 0.333125\n",
      "Epoch: 7, Train Loss: 2.1236590106964113, Train Acc: 0.25, Test Acc: 0.335875\n",
      "Epoch: 8, Train Loss: 2.123652227115631, Train Acc: 0.34375, Test Acc: 0.33375\n",
      "Epoch: 9, Train Loss: 2.123649903011322, Train Acc: 0.40625, Test Acc: 0.336125\n"
     ]
    }
   ],
   "source": [
    "# Run Options\n",
    "EPOCHS = 10\n",
    "\n",
    "losses = []\n",
    "train_acc = []\n",
    "test_acc = []\n",
    "\n",
    "for epoch in range(EPOCHS):\n",
    "    losses.append(0)\n",
    "\n",
    "    number_of_batches = 0\n",
    "\n",
    "    for [x_batch,y_batch] in train_data:\n",
    "        x_batch = x_batch.type(torch.float32).to(device)\n",
    "\n",
    "        optimizer.zero_grad()\n",
    "\n",
    "        class_probs = net(x_batch)\n",
    "\n",
    "        loss = F.cross_entropy(class_probs,y_batch)\n",
    "\n",
    "        losses[-1] += loss.item()\n",
    "\n",
    "        loss.backward()\n",
    "        optimizer.step()\n",
    "\n",
    "        number_of_batches += 1\n",
    "\n",
    "    losses[-1] /= number_of_batches\n",
    "\n",
    "    train_acc.append(get_accuracy(net, train_data))\n",
    "    test_acc.append(get_accuracy(net, test_data))\n",
    "\n",
    "    print(\"Epoch: {}, Train Loss: {}, Train Acc: {}, Test Acc: {}\".format(epoch, losses[-1], train_acc[-1], test_acc[-1]))\n",
    "\n"
   ]
  },
  {
   "cell_type": "code",
   "execution_count": 58,
   "metadata": {},
   "outputs": [
    {
     "data": {
      "text/plain": [
       "[<matplotlib.lines.Line2D at 0x7f954d81d5c0>]"
      ]
     },
     "execution_count": 58,
     "metadata": {},
     "output_type": "execute_result"
    },
    {
     "data": {
      "image/png": "[encoded data removed]",
      "text/plain": [
       "<Figure size 576x396 with 1 Axes>"
      ]
     },
     "metadata": {},
     "output_type": "display_data"
    }
   ],
   "source": [
    "plt.plot(train_acc)\n",
    "plt.plot(test_acc)"
   ]
  }
 ],
 "metadata": {
  "interpreter": {
   "hash": "7bd648419a684b263b947e63584b9a1ef9aefb5ec8226dde005080c7f6eb6cea"
  },
  "kernelspec": {
   "display_name": "Python 3.6.10 ('nlp_ml')",
   "language": "python",
   "name": "python3"
  },
  "language_info": {
   "codemirror_mode": {
    "name": "ipython",
    "version": 3
   },
   "file_extension": ".py",
   "mimetype": "text/x-python",
   "name": "python",
   "nbconvert_exporter": "python",
   "pygments_lexer": "ipython3",
   "version": "3.6.10"
  },
  "orig_nbformat": 4
 },
 "nbformat": 4,
 "nbformat_minor": 2
}
